{
 "cells": [
  {
   "cell_type": "code",
   "execution_count": 7,
   "id": "ced2273e-106e-42ca-9c5b-8e8b5707d70d",
   "metadata": {},
   "outputs": [
    {
     "name": "stdin",
     "output_type": "stream",
     "text": [
      "Enter Age:  20\n"
     ]
    }
   ],
   "source": [
    "age = input(\"Enter Age: \")"
   ]
  },
  {
   "cell_type": "code",
   "execution_count": 8,
   "id": "7da8f837-aad3-4f9e-8451-721610117752",
   "metadata": {},
   "outputs": [
    {
     "name": "stdout",
     "output_type": "stream",
     "text": [
      "20\n"
     ]
    }
   ],
   "source": [
    "print(age)"
   ]
  },
  {
   "cell_type": "code",
   "execution_count": 12,
   "id": "501c3372-9094-457b-89a2-80768645b189",
   "metadata": {},
   "outputs": [
    {
     "name": "stdout",
     "output_type": "stream",
     "text": [
      "Here, have a drink!\n"
     ]
    }
   ],
   "source": [
    "# this is an if statement\n",
    "if int(age) > 18:\n",
    "    print(\"Here, have a drink!\")\n",
    "else:\n",
    "    print(\"Here is your Canada Dry🧃\")"
   ]
  },
  {
   "cell_type": "markdown",
   "id": "7d0f1597-09f8-444d-a275-ed5af9b2c327",
   "metadata": {},
   "source": [
    "# This is gonna be Epic!\n",
    "## AI is the future!!! \n",
    "### Data Science is step 1\n",
    "\n",
    "This is a demo of how these notebooks work. I hope you like it!!!\n",
    "\n",
    "This is how you write an `if statement` in **Python**\n",
    "\n",
    "``` python\n",
    "if int(age) > 18:\n",
    "    print(\"Here, have a drink!\")\n",
    "else:\n",
    "    print(\"Here is your Canada Dry🧃\")\n",
    "```"
   ]
  },
  {
   "cell_type": "code",
   "execution_count": null,
   "id": "09ac999c-f142-46ad-a755-4d51b7e33f4a",
   "metadata": {},
   "outputs": [],
   "source": []
  }
 ],
 "metadata": {
  "kernelspec": {
   "display_name": "Python 3 (ipykernel)",
   "language": "python",
   "name": "python3"
  },
  "language_info": {
   "codemirror_mode": {
    "name": "ipython",
    "version": 3
   },
   "file_extension": ".py",
   "mimetype": "text/x-python",
   "name": "python",
   "nbconvert_exporter": "python",
   "pygments_lexer": "ipython3",
   "version": "3.9.13"
  }
 },
 "nbformat": 4,
 "nbformat_minor": 5
}
